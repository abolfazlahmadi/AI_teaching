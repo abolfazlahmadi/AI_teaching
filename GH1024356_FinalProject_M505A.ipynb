{
  "nbformat": 4,
  "nbformat_minor": 0,
  "metadata": {
    "colab": {
      "provenance": [],
      "mount_file_id": "1JJs-riXeiHQyDiMDXle9__Ow9d3Uz6bV",
      "authorship_tag": "ABX9TyN2rx3DpUQm7OYVY0Fi2rvS",
      "include_colab_link": true
    },
    "kernelspec": {
      "name": "python3",
      "display_name": "Python 3"
    },
    "language_info": {
      "name": "python"
    }
  },
  "cells": [
    {
      "cell_type": "markdown",
      "metadata": {
        "id": "view-in-github",
        "colab_type": "text"
      },
      "source": [
        "<a href=\"https://colab.research.google.com/github/abolfazlahmadi/AI_teaching/blob/main/GH1024356_FinalProject_M505A.ipynb\" target=\"_parent\"><img src=\"https://colab.research.google.com/assets/colab-badge.svg\" alt=\"Open In Colab\"/></a>"
      ]
    },
    {
      "cell_type": "markdown",
      "source": [
        "\n",
        "# Assessment Submission Form\n",
        "|||\n",
        "| :--------------------------   | :-------------------------------------------------: |\n",
        "|**Student Number** | **GH1024356** |\n",
        "|**Module Code**| **M505A Intro to AI and Machine Learning (WS0124)** |\n",
        "|**Module Title**| **Intro to AI and Machine Learning** |\n",
        "|**Module Tutor**| **Prof. Dr. Mohammad Mahdavi** |\n",
        "|**Date Submitted**| **2024-04-11** |\n",
        "\n",
        "\n",
        "***By submitting my assignment, I automatically sign the Assessed Submission Form and take responsibility for my submission.***\n",
        "\n",
        "Declaration of Authorship\n",
        "\n",
        " I declare that all material in this assessment is my own work except where there is clear acknowledgement and appropriate reference to the work of others.\n",
        "\n",
        "I fully understand that the unacknowledged inclusion of another person’s writings or ideas or works in this work may be considered plagiarism and that, should a formal investigation process confirms the allegation, I would be subject to the penalties associated with plagiarism, as per GISMA Business School, University of Applied Sciences’ regulations for academic misconduct.\n",
        "\n",
        "***Abolfazl Ahmadi***\n",
        "\n",
        "***2024-04-11***\n",
        "\n",
        "\n"
      ],
      "metadata": {
        "id": "aHVfSygZdLET"
      }
    },
    {
      "cell_type": "markdown",
      "source": [
        "# Introduction\n",
        "Due to the cost of curement, Cardiovascular diseases pose a significant global health challenge for insurance companies. Our insurance company, Dr-Walter, decided to have various pricing for their customers. This pricing is related to risks of different diseases. Cardiovascular diseases is one of the most impactful diseases on pricing. Therefore, there is an option for customers to do a check-up and if there is no sign of Cardiovascular diseases, they will get an offer for a discounted plan.\n",
        "## Problem Statement\n",
        "The problem is to predict if the customer has Cardiovascular diseases or not. To achieve this goal, I have to train a classification model based on previous customers with their result of medical examination and their information. There are two target classes as 0-negetive or 1-positive cardio-diseases.\n",
        "False-positive prediction is not an issue, due to the fact that altough it is not fair, this only causes the customer to pay more. On the other hand, a high rate of false-negetive might lead to a huge expense for the insrance company. The accuracy of the model would make customer satisfaction with discounted plans the make profitable deals.\n",
        "\n",
        "## Dataset\n",
        "\n",
        "(Svetlana Ulianova, 2023) The \"Cardiovascular Disease dataset\" consists of 70 000 records of patients data, 11 features + target. There are 3 types of input features:\n",
        "\n",
        "Objective: factual information;\n",
        "\n",
        "Examination: results of medical examination;\n",
        "\n",
        "Subjective: information given by the patient.\n",
        "\n",
        "**Features:**\n",
        "\n",
        "1.   Age | Objective Feature | age | int (days)\n",
        "2.   Height | Objective Feature | height | int (cm) |\n",
        "3.   Weight | Objective Feature | weight | float (kg) |\n",
        "4.   Gender | Objective Feature | gender | categorical code |\n",
        "5.   Systolic blood pressure | Examination Feature | ap_hi | int |\n",
        "6.   Diastolic blood pressure | Examination Feature | ap_lo | int |\n",
        "7.   Cholesterol | Examination Feature | cholesterol | 1: normal, 2: above normal, 3: well above normal |\n",
        "8.   Glucose | Examination Feature | gluc | 1: normal, 2: above normal, 3: well above normal |\n",
        "9.   Smoking | Subjective Feature | smoke | binary |\n",
        "10.   Alcohol intake | Subjective Feature | alco | binary |\n",
        "11.   Physical activity | Subjective Feature | active | binary |\n",
        "12.   Presence or absence of cardiovascular disease | Target Variable | cardio | binary |\n",
        "\n",
        "All of the dataset values were collected at the moment of medical examination.\n",
        "\n",
        "The dataset could be accessed through the original link(has some comma-delimited issue) of kaggle website or edited one in my own shared folder in google drive from below links:\n",
        "\n",
        "*   [Dataset in my google drive - without csv format issues](https://drive.google.com/file/d/1dO-wLsb_AwNBQleEmWxN6O76MVliD6vh/view?usp=sharing)\n",
        "*   [Dataset in kaggle website - has some csv format issues](https://www.kaggle.com/datasets/sulianova/cardiovascular-disease-dataset)\n",
        "\n",
        "\n"
      ],
      "metadata": {
        "id": "xSsaN-qYcD0K"
      }
    },
    {
      "cell_type": "markdown",
      "source": [
        "\n",
        "# Import libraries and dataset\n"
      ],
      "metadata": {
        "id": "afal7PKi-WVB"
      }
    },
    {
      "cell_type": "code",
      "source": [
        "# import packages\n",
        "\n",
        "import pandas as pd\n",
        "import numpy as np\n",
        "\n",
        "from sklearn.model_selection import train_test_split\n",
        "from sklearn.compose import ColumnTransformer\n",
        "from sklearn.decomposition import PCA\n",
        "from sklearn.preprocessing import StandardScaler\n",
        "from sklearn.tree import DecisionTreeClassifier\n",
        "from sklearn.model_selection import train_test_split\n",
        "from sklearn.ensemble import GradientBoostingClassifier\n",
        "from sklearn.model_selection import GridSearchCV\n",
        "from sklearn.metrics import accuracy_score\n",
        "from sklearn.svm import SVC\n",
        "from sklearn.ensemble import RandomForestClassifier\n",
        "from sklearn.linear_model import LogisticRegression\n",
        "from sklearn.naive_bayes import GaussianNB\n",
        "from sklearn.preprocessing import FunctionTransformer\n",
        "import sklearn\n",
        "\n",
        "\n",
        "import matplotlib.pyplot as plt\n"
      ],
      "metadata": {
        "id": "IbczJKCWVk57"
      },
      "execution_count": 42,
      "outputs": []
    },
    {
      "cell_type": "markdown",
      "source": [
        "# Data Collection\n",
        "Data has been downloaded from kaggle website and I improve the csv file format issue and shared the corrected file in my google drive. Then it is uploaded to a dataframe via pandas library functions. The dataset then splited into two dataset train and test."
      ],
      "metadata": {
        "id": "QaYUsfiorPso"
      }
    },
    {
      "cell_type": "code",
      "source": [
        "# read the csv file - import dateset to a pandas list\n",
        "df=pd.read_csv(\"/content/drive/MyDrive/Colab_Notebooks/M505A/cardio_train.csv\")\n",
        "#show the first row of our original dataset\n",
        "df.head(1)\n",
        "df['age'] = pd.to_numeric(df['age'], errors='coerce')\n",
        "log_transformer = FunctionTransformer(np.log1p, validate=True)\n",
        "df['log_age'] = log_transformer.fit_transform(df[['age']])\n",
        "df.drop('age', axis=1, inplace=True)\n",
        "df.drop('id', axis=1, inplace=True)\n",
        "#remove implicit data missing\n",
        "df = df[df['weight'] > 20]\n",
        "df = df[df['ap_hi'] > 0]\n",
        "df = df[df['ap_hi'] < 300]\n",
        "df = df[df['ap_lo'] > 0]\n",
        "df = df[df['ap_lo'] < 500]\n",
        "\n",
        "df_train,df_test = train_test_split(df)\n",
        "\n",
        "print(\"df size:\",df.shape)\n",
        "print(\"df_train size:\",df_train.shape)\n",
        "print(\"df_test size:\",df_test.shape)\n"
      ],
      "metadata": {
        "colab": {
          "base_uri": "https://localhost:8080/"
        },
        "id": "Ko1w0ryGvacm",
        "outputId": "2abd65f7-b305-4ec5-d808-3c9f4dfd6028"
      },
      "execution_count": 43,
      "outputs": [
        {
          "output_type": "stream",
          "name": "stdout",
          "text": [
            "df size: (68984, 12)\n",
            "df_train size: (51738, 12)\n",
            "df_test size: (17246, 12)\n"
          ]
        }
      ]
    },
    {
      "cell_type": "markdown",
      "source": [
        "## Data Exploration\n",
        "\n",
        "For data exploration, we need to go through the dataset and understanding the data by keeping an eye on data types of features,histogram of numerical data, null values, duplicated rows, unique values, categorical features and transformation and features which need to be normalized. Also, check for explicit missing values like null or implicit missing values like wrong values or wrong range of values.\n",
        "\n",
        "\n",
        "\n",
        "\n"
      ],
      "metadata": {
        "id": "uGWOwTydVsdL"
      }
    },
    {
      "cell_type": "code",
      "source": [
        "#show the first row of our original dataset\n",
        "df.head(1)"
      ],
      "metadata": {
        "colab": {
          "base_uri": "https://localhost:8080/",
          "height": 81
        },
        "id": "sBjiddgbYYO8",
        "outputId": "258f483f-aa72-497f-cd85-345751dcb03a"
      },
      "execution_count": 44,
      "outputs": [
        {
          "output_type": "execute_result",
          "data": {
            "text/plain": [
              "   gender  height  weight  ap_hi  ap_lo  cholesterol  gluc  smoke  alco  \\\n",
              "0       2     168    62.0    110     80            1     1      0     0   \n",
              "\n",
              "   active  cardio  log_age  \n",
              "0       1       0  9.81978  "
            ],
            "text/html": [
              "\n",
              "  <div id=\"df-40a1b55c-2e6d-4e20-815e-58aa0776928f\" class=\"colab-df-container\">\n",
              "    <div>\n",
              "<style scoped>\n",
              "    .dataframe tbody tr th:only-of-type {\n",
              "        vertical-align: middle;\n",
              "    }\n",
              "\n",
              "    .dataframe tbody tr th {\n",
              "        vertical-align: top;\n",
              "    }\n",
              "\n",
              "    .dataframe thead th {\n",
              "        text-align: right;\n",
              "    }\n",
              "</style>\n",
              "<table border=\"1\" class=\"dataframe\">\n",
              "  <thead>\n",
              "    <tr style=\"text-align: right;\">\n",
              "      <th></th>\n",
              "      <th>gender</th>\n",
              "      <th>height</th>\n",
              "      <th>weight</th>\n",
              "      <th>ap_hi</th>\n",
              "      <th>ap_lo</th>\n",
              "      <th>cholesterol</th>\n",
              "      <th>gluc</th>\n",
              "      <th>smoke</th>\n",
              "      <th>alco</th>\n",
              "      <th>active</th>\n",
              "      <th>cardio</th>\n",
              "      <th>log_age</th>\n",
              "    </tr>\n",
              "  </thead>\n",
              "  <tbody>\n",
              "    <tr>\n",
              "      <th>0</th>\n",
              "      <td>2</td>\n",
              "      <td>168</td>\n",
              "      <td>62.0</td>\n",
              "      <td>110</td>\n",
              "      <td>80</td>\n",
              "      <td>1</td>\n",
              "      <td>1</td>\n",
              "      <td>0</td>\n",
              "      <td>0</td>\n",
              "      <td>1</td>\n",
              "      <td>0</td>\n",
              "      <td>9.81978</td>\n",
              "    </tr>\n",
              "  </tbody>\n",
              "</table>\n",
              "</div>\n",
              "    <div class=\"colab-df-buttons\">\n",
              "\n",
              "  <div class=\"colab-df-container\">\n",
              "    <button class=\"colab-df-convert\" onclick=\"convertToInteractive('df-40a1b55c-2e6d-4e20-815e-58aa0776928f')\"\n",
              "            title=\"Convert this dataframe to an interactive table.\"\n",
              "            style=\"display:none;\">\n",
              "\n",
              "  <svg xmlns=\"http://www.w3.org/2000/svg\" height=\"24px\" viewBox=\"0 -960 960 960\">\n",
              "    <path d=\"M120-120v-720h720v720H120Zm60-500h600v-160H180v160Zm220 220h160v-160H400v160Zm0 220h160v-160H400v160ZM180-400h160v-160H180v160Zm440 0h160v-160H620v160ZM180-180h160v-160H180v160Zm440 0h160v-160H620v160Z\"/>\n",
              "  </svg>\n",
              "    </button>\n",
              "\n",
              "  <style>\n",
              "    .colab-df-container {\n",
              "      display:flex;\n",
              "      gap: 12px;\n",
              "    }\n",
              "\n",
              "    .colab-df-convert {\n",
              "      background-color: #E8F0FE;\n",
              "      border: none;\n",
              "      border-radius: 50%;\n",
              "      cursor: pointer;\n",
              "      display: none;\n",
              "      fill: #1967D2;\n",
              "      height: 32px;\n",
              "      padding: 0 0 0 0;\n",
              "      width: 32px;\n",
              "    }\n",
              "\n",
              "    .colab-df-convert:hover {\n",
              "      background-color: #E2EBFA;\n",
              "      box-shadow: 0px 1px 2px rgba(60, 64, 67, 0.3), 0px 1px 3px 1px rgba(60, 64, 67, 0.15);\n",
              "      fill: #174EA6;\n",
              "    }\n",
              "\n",
              "    .colab-df-buttons div {\n",
              "      margin-bottom: 4px;\n",
              "    }\n",
              "\n",
              "    [theme=dark] .colab-df-convert {\n",
              "      background-color: #3B4455;\n",
              "      fill: #D2E3FC;\n",
              "    }\n",
              "\n",
              "    [theme=dark] .colab-df-convert:hover {\n",
              "      background-color: #434B5C;\n",
              "      box-shadow: 0px 1px 3px 1px rgba(0, 0, 0, 0.15);\n",
              "      filter: drop-shadow(0px 1px 2px rgba(0, 0, 0, 0.3));\n",
              "      fill: #FFFFFF;\n",
              "    }\n",
              "  </style>\n",
              "\n",
              "    <script>\n",
              "      const buttonEl =\n",
              "        document.querySelector('#df-40a1b55c-2e6d-4e20-815e-58aa0776928f button.colab-df-convert');\n",
              "      buttonEl.style.display =\n",
              "        google.colab.kernel.accessAllowed ? 'block' : 'none';\n",
              "\n",
              "      async function convertToInteractive(key) {\n",
              "        const element = document.querySelector('#df-40a1b55c-2e6d-4e20-815e-58aa0776928f');\n",
              "        const dataTable =\n",
              "          await google.colab.kernel.invokeFunction('convertToInteractive',\n",
              "                                                    [key], {});\n",
              "        if (!dataTable) return;\n",
              "\n",
              "        const docLinkHtml = 'Like what you see? Visit the ' +\n",
              "          '<a target=\"_blank\" href=https://colab.research.google.com/notebooks/data_table.ipynb>data table notebook</a>'\n",
              "          + ' to learn more about interactive tables.';\n",
              "        element.innerHTML = '';\n",
              "        dataTable['output_type'] = 'display_data';\n",
              "        await google.colab.output.renderOutput(dataTable, element);\n",
              "        const docLink = document.createElement('div');\n",
              "        docLink.innerHTML = docLinkHtml;\n",
              "        element.appendChild(docLink);\n",
              "      }\n",
              "    </script>\n",
              "  </div>\n",
              "\n",
              "    </div>\n",
              "  </div>\n"
            ],
            "application/vnd.google.colaboratory.intrinsic+json": {
              "type": "dataframe",
              "variable_name": "df",
              "summary": "{\n  \"name\": \"df\",\n  \"rows\": 68984,\n  \"fields\": [\n    {\n      \"column\": \"gender\",\n      \"properties\": {\n        \"dtype\": \"number\",\n        \"std\": 0,\n        \"min\": 1,\n        \"max\": 2,\n        \"num_unique_values\": 2,\n        \"samples\": [\n          1,\n          2\n        ],\n        \"semantic_type\": \"\",\n        \"description\": \"\"\n      }\n    },\n    {\n      \"column\": \"height\",\n      \"properties\": {\n        \"dtype\": \"number\",\n        \"std\": 8,\n        \"min\": 55,\n        \"max\": 250,\n        \"num_unique_values\": 108,\n        \"samples\": [\n          67,\n          181\n        ],\n        \"semantic_type\": \"\",\n        \"description\": \"\"\n      }\n    },\n    {\n      \"column\": \"weight\",\n      \"properties\": {\n        \"dtype\": \"number\",\n        \"std\": 14.327026848645247,\n        \"min\": 21.0,\n        \"max\": 200.0,\n        \"num_unique_values\": 280,\n        \"samples\": [\n          77.0,\n          84.6\n        ],\n        \"semantic_type\": \"\",\n        \"description\": \"\"\n      }\n    },\n    {\n      \"column\": \"ap_hi\",\n      \"properties\": {\n        \"dtype\": \"number\",\n        \"std\": 17,\n        \"min\": 7,\n        \"max\": 240,\n        \"num_unique_values\": 119,\n        \"samples\": [\n          136,\n          149\n        ],\n        \"semantic_type\": \"\",\n        \"description\": \"\"\n      }\n    },\n    {\n      \"column\": \"ap_lo\",\n      \"properties\": {\n        \"dtype\": \"number\",\n        \"std\": 9,\n        \"min\": 1,\n        \"max\": 190,\n        \"num_unique_values\": 93,\n        \"samples\": [\n          125,\n          86\n        ],\n        \"semantic_type\": \"\",\n        \"description\": \"\"\n      }\n    },\n    {\n      \"column\": \"cholesterol\",\n      \"properties\": {\n        \"dtype\": \"number\",\n        \"std\": 0,\n        \"min\": 1,\n        \"max\": 3,\n        \"num_unique_values\": 3,\n        \"samples\": [\n          1,\n          3\n        ],\n        \"semantic_type\": \"\",\n        \"description\": \"\"\n      }\n    },\n    {\n      \"column\": \"gluc\",\n      \"properties\": {\n        \"dtype\": \"number\",\n        \"std\": 0,\n        \"min\": 1,\n        \"max\": 3,\n        \"num_unique_values\": 3,\n        \"samples\": [\n          1,\n          2\n        ],\n        \"semantic_type\": \"\",\n        \"description\": \"\"\n      }\n    },\n    {\n      \"column\": \"smoke\",\n      \"properties\": {\n        \"dtype\": \"number\",\n        \"std\": 0,\n        \"min\": 0,\n        \"max\": 1,\n        \"num_unique_values\": 2,\n        \"samples\": [\n          1,\n          0\n        ],\n        \"semantic_type\": \"\",\n        \"description\": \"\"\n      }\n    },\n    {\n      \"column\": \"alco\",\n      \"properties\": {\n        \"dtype\": \"number\",\n        \"std\": 0,\n        \"min\": 0,\n        \"max\": 1,\n        \"num_unique_values\": 2,\n        \"samples\": [\n          1,\n          0\n        ],\n        \"semantic_type\": \"\",\n        \"description\": \"\"\n      }\n    },\n    {\n      \"column\": \"active\",\n      \"properties\": {\n        \"dtype\": \"number\",\n        \"std\": 0,\n        \"min\": 0,\n        \"max\": 1,\n        \"num_unique_values\": 2,\n        \"samples\": [\n          0,\n          1\n        ],\n        \"semantic_type\": \"\",\n        \"description\": \"\"\n      }\n    },\n    {\n      \"column\": \"cardio\",\n      \"properties\": {\n        \"dtype\": \"number\",\n        \"std\": 0,\n        \"min\": 0,\n        \"max\": 1,\n        \"num_unique_values\": 2,\n        \"samples\": [\n          1,\n          0\n        ],\n        \"semantic_type\": \"\",\n        \"description\": \"\"\n      }\n    },\n    {\n      \"column\": \"log_age\",\n      \"properties\": {\n        \"dtype\": \"number\",\n        \"std\": 0.1311886306449747,\n        \"min\": 9.28720881623276,\n        \"max\": 10.073820870018016,\n        \"num_unique_values\": 8065,\n        \"samples\": [\n          9.992185007297415,\n          9.818419740146064\n        ],\n        \"semantic_type\": \"\",\n        \"description\": \"\"\n      }\n    }\n  ]\n}"
            }
          },
          "metadata": {},
          "execution_count": 44
        }
      ]
    },
    {
      "cell_type": "code",
      "source": [
        "# check type of each column\n",
        "df.dtypes"
      ],
      "metadata": {
        "colab": {
          "base_uri": "https://localhost:8080/"
        },
        "id": "-tovOhQZ2C4r",
        "outputId": "e74bcbd1-d1e1-46d7-f050-2a7a14a7b663"
      },
      "execution_count": 45,
      "outputs": [
        {
          "output_type": "execute_result",
          "data": {
            "text/plain": [
              "gender           int64\n",
              "height           int64\n",
              "weight         float64\n",
              "ap_hi            int64\n",
              "ap_lo            int64\n",
              "cholesterol      int64\n",
              "gluc             int64\n",
              "smoke            int64\n",
              "alco             int64\n",
              "active           int64\n",
              "cardio           int64\n",
              "log_age        float64\n",
              "dtype: object"
            ]
          },
          "metadata": {},
          "execution_count": 45
        }
      ]
    },
    {
      "cell_type": "code",
      "source": [
        "# checking statistics and summary of the dataset\n",
        "#distribution of target labels. check if train data is balanced\n",
        "df_train[\"cardio\"].hist()\n"
      ],
      "metadata": {
        "colab": {
          "base_uri": "https://localhost:8080/",
          "height": 448
        },
        "id": "ovlyISXI2WJ-",
        "outputId": "cd618a69-ecd3-4b4d-eb8b-b64df87dec8c"
      },
      "execution_count": 46,
      "outputs": [
        {
          "output_type": "execute_result",
          "data": {
            "text/plain": [
              "<Axes: >"
            ]
          },
          "metadata": {},
          "execution_count": 46
        },
        {
          "output_type": "display_data",
          "data": {
            "text/plain": [
              "<Figure size 640x480 with 1 Axes>"
            ],
            "image/png": "[encoded data removed]"
          },
          "metadata": {}
        }
      ]
    },
    {
      "cell_type": "code",
      "source": [
        "df_train[\"cardio\"].unique()\n"
      ],
      "metadata": {
        "colab": {
          "base_uri": "https://localhost:8080/"
        },
        "id": "rAsvhMBQ3KRO",
        "outputId": "a6949652-0897-49c5-d03a-ed39d4bd9d87"
      },
      "execution_count": 47,
      "outputs": [
        {
          "output_type": "execute_result",
          "data": {
            "text/plain": [
              "array([0, 1])"
            ]
          },
          "metadata": {},
          "execution_count": 47
        }
      ]
    },
    {
      "cell_type": "code",
      "source": [
        "# check implicit missing values\n",
        "df_train[\"gender\"].unique()\n"
      ],
      "metadata": {
        "colab": {
          "base_uri": "https://localhost:8080/"
        },
        "id": "2QdvFd-23kUA",
        "outputId": "24cbc8f8-d45a-4a43-ffdd-b33c2a70c176"
      },
      "execution_count": 48,
      "outputs": [
        {
          "output_type": "execute_result",
          "data": {
            "text/plain": [
              "array([1, 2])"
            ]
          },
          "metadata": {},
          "execution_count": 48
        }
      ]
    },
    {
      "cell_type": "code",
      "source": [
        "# check missing data\n",
        "df_train.isnull().count()"
      ],
      "metadata": {
        "colab": {
          "base_uri": "https://localhost:8080/"
        },
        "id": "GcKFAF9K4CFB",
        "outputId": "6788c42f-a7ab-4ddc-a0e6-ca772cdbabb8"
      },
      "execution_count": 49,
      "outputs": [
        {
          "output_type": "execute_result",
          "data": {
            "text/plain": [
              "gender         51738\n",
              "height         51738\n",
              "weight         51738\n",
              "ap_hi          51738\n",
              "ap_lo          51738\n",
              "cholesterol    51738\n",
              "gluc           51738\n",
              "smoke          51738\n",
              "alco           51738\n",
              "active         51738\n",
              "cardio         51738\n",
              "log_age        51738\n",
              "dtype: int64"
            ]
          },
          "metadata": {},
          "execution_count": 49
        }
      ]
    },
    {
      "cell_type": "code",
      "source": [
        "# get to know about unique values of each column\n",
        "df_train.nunique()"
      ],
      "metadata": {
        "colab": {
          "base_uri": "https://localhost:8080/"
        },
        "id": "7_PkOhhh43C2",
        "outputId": "b3e6bc5a-efd2-425c-9264-ec48526ced4a"
      },
      "execution_count": 50,
      "outputs": [
        {
          "output_type": "execute_result",
          "data": {
            "text/plain": [
              "gender            2\n",
              "height          102\n",
              "weight          255\n",
              "ap_hi           113\n",
              "ap_lo            92\n",
              "cholesterol       3\n",
              "gluc              3\n",
              "smoke             2\n",
              "alco              2\n",
              "active            2\n",
              "cardio            2\n",
              "log_age        7856\n",
              "dtype: int64"
            ]
          },
          "metadata": {},
          "execution_count": 50
        }
      ]
    },
    {
      "cell_type": "code",
      "source": [
        "#number of nulls\n",
        "df_train.isnull().sum()\n",
        "#distribution of target label\n",
        "df_train[\"cardio\"].value_counts().plot(kind=\"bar\")\n",
        "#see if a column is filled with 0\n",
        "df_train.sum() == 0\n"
      ],
      "metadata": {
        "colab": {
          "base_uri": "https://localhost:8080/",
          "height": 680
        },
        "id": "dR9NNHpn5DVd",
        "outputId": "ae1b535f-d5c2-407a-becc-eb2f2d71e744"
      },
      "execution_count": 51,
      "outputs": [
        {
          "output_type": "execute_result",
          "data": {
            "text/plain": [
              "gender         False\n",
              "height         False\n",
              "weight         False\n",
              "ap_hi          False\n",
              "ap_lo          False\n",
              "cholesterol    False\n",
              "gluc           False\n",
              "smoke          False\n",
              "alco           False\n",
              "active         False\n",
              "cardio         False\n",
              "log_age        False\n",
              "dtype: bool"
            ]
          },
          "metadata": {},
          "execution_count": 51
        },
        {
          "output_type": "display_data",
          "data": {
            "text/plain": [
              "<Figure size 640x480 with 1 Axes>"
            ],
            "image/png": "[encoded data removed]"
          },
          "metadata": {}
        }
      ]
    },
    {
      "cell_type": "markdown",
      "source": [
        "## Data Preprocessing\n",
        "The first step of data preprocessing is to drop the unwanted attributes,duplicated rows to prevent data leakage, fill missing values, transform categorical features, normalized numerical features, etc.\n",
        "I had seperated the train and test datasets before. Now, it is the time to seperate the target label and other features.\n",
        "\n"
      ],
      "metadata": {
        "id": "Kqu8RGKDYZn7"
      }
    },
    {
      "cell_type": "code",
      "source": [
        "# drop null and duplicated values\n",
        "df_train = df_train.dropna()\n",
        "df_train = df_train.drop_duplicates()\n",
        "df_train[\"cardio\"].value_counts().sum()\n",
        "# the results did not change, so there were null or duplicated values"
      ],
      "metadata": {
        "colab": {
          "base_uri": "https://localhost:8080/"
        },
        "id": "Fx6TbK0NktNJ",
        "outputId": "3171d5e8-5d69-4385-f909-bffbde2f9c15"
      },
      "execution_count": 52,
      "outputs": [
        {
          "output_type": "execute_result",
          "data": {
            "text/plain": [
              "51728"
            ]
          },
          "metadata": {},
          "execution_count": 52
        }
      ]
    },
    {
      "cell_type": "code",
      "source": [
        "#seperate features from target labels\n",
        "y_train=df_train[\"cardio\"]\n",
        "y_test=df_test[\"cardio\"]\n",
        "x_train= df_train.drop([\"cardio\"] , axis=1)\n",
        "x_test=df_test.drop([\"cardio\"] , axis=1)\n",
        "\n",
        "print(\"x_train size:\",x_train.shape)\n",
        "print(\"y_train size:\",y_train.shape)\n",
        "print(\"x_ttest size:\",x_test.shape)\n",
        "print(\"y_test size:\",y_test.shape)\n",
        "\n"
      ],
      "metadata": {
        "colab": {
          "base_uri": "https://localhost:8080/"
        },
        "id": "eWubit8SBXvE",
        "outputId": "f6dc8481-c884-4434-9856-4956e84ac6ee"
      },
      "execution_count": 53,
      "outputs": [
        {
          "output_type": "stream",
          "name": "stdout",
          "text": [
            "x_train size: (51728, 11)\n",
            "y_train size: (51728,)\n",
            "x_ttest size: (17246, 11)\n",
            "y_test size: (17246,)\n"
          ]
        }
      ]
    },
    {
      "cell_type": "markdown",
      "source": [
        "# Feature Engineering\n",
        "In Feature Engineering part, I select numerical columns and categorical columns. I tried to normalized numerical columns and encode categorical ones. Although \"gender\" column is numerical, it is not a ordinal category so I had to encode it using one-hot-encoder. Since it was numerical, I added the column mannually to the categorical list.\n",
        "\n",
        "After a deep exploratory I realized that my result might be affected by my feature units specially AGE feature which was in days. I decided to change the unit by applying another transformation: Logarithmic Transformation.\n",
        "\n",
        "For dimensional reduction I use PCA algorithm. I applied all transformations on both train and test datasets."
      ],
      "metadata": {
        "id": "T1P6pTnpC5mV"
      }
    },
    {
      "cell_type": "code",
      "source": [
        "\n",
        "# select categorical and non-categorical features\n",
        "#categorical_columns=x_train.select_dtypes(include=[\"object\"]).columns.tolist()\n",
        "#categorical_columns is null but since gender is coded to 1 and 2, it is better to assume as categorical and transform via one-hot-encoding algorithm\n",
        "categorical_columns = list()\n",
        "#categorical_columns.append(\"gender\")\n",
        "numerical_columns=x_train.select_dtypes(exclude=[\"object\"]).columns.tolist()\n",
        "\n",
        "ct = sklearn.compose.ColumnTransformer([\n",
        "    (\"standard_scaling\", sklearn.preprocessing.StandardScaler(), numerical_columns),\n",
        "    (\"one_hot_encoding\", sklearn.preprocessing.OneHotEncoder(handle_unknown=\"ignore\"), categorical_columns),\n",
        "], remainder=\"passthrough\")\n",
        "\n",
        "\n",
        "ct.fit(x_train)\n",
        "x_train = ct.transform(x_train)\n",
        "x_test = ct.transform(x_test)\n",
        "\n",
        "print(\"x_train size:\",x_train.shape)\n",
        "print(\"y_train size:\",y_train.shape)\n",
        "print(\"x_ttest size:\",x_test.shape)\n",
        "print(\"y_test size:\",y_test.shape)\n"
      ],
      "metadata": {
        "colab": {
          "base_uri": "https://localhost:8080/"
        },
        "id": "c-75ahOLC1ys",
        "outputId": "9e0674a9-4ca6-49e2-b7f3-1af6cc1012ac"
      },
      "execution_count": 54,
      "outputs": [
        {
          "output_type": "stream",
          "name": "stdout",
          "text": [
            "x_train size: (51728, 11)\n",
            "y_train size: (51728,)\n",
            "x_ttest size: (17246, 11)\n",
            "y_test size: (17246,)\n"
          ]
        }
      ]
    },
    {
      "cell_type": "code",
      "source": [
        "# our dataset does not have a lot features so I disable this part\n",
        "pca = PCA(n_components=5)\n",
        "x_train_pca = pca.fit_transform(x_train)\n",
        "x_test_pca = pca.transform(x_test)\n"
      ],
      "metadata": {
        "id": "SFiK9qfAdQ67"
      },
      "execution_count": 55,
      "outputs": []
    },
    {
      "cell_type": "markdown",
      "source": [
        "\n",
        "\n",
        "# Model training\n",
        "Since my data is consist of mostly continues numerical feature like weight, age, and some categories like gender. Since I have dataset shape(70000,13) tabular data which is mostly clean and numerical, I assume Gradiant Boosting will work on my data although it is very slow. Also, another ensemble learning, Random Forest which is based on bagging could have faster training with the same result so I will try it. I prefered to use these Four models for classification:\n",
        "\n",
        "\n",
        "1.   Ensemble learning(Gradient Boosting)\n",
        "2.   Random Forests\n",
        "3.   Support Vector Machines (SVM)\n",
        "4.   logistic regression\n",
        "\n",
        "Since Gradiant Boosting was too slow for hyperparameter tuning, I decided to use randomizedsearchcv instead of gridsearchcv.\n",
        "For each model I prepared hyperparameter tuning.\n",
        "\n",
        "I applied cross-validation technique via using cv parameter in gridsearchcv. I applied n_jobs = -1 to use the maximum parallel cpu I have.\n",
        "\n",
        "After I found the best model and best parameter for my dataset, I am ready to use the model and assess the result. For choosing the model, there is no consideration of learning time, but testing time should be almost real-time. I mentioned before that False-Positive do not matter a lot for our business, despite the False-Negetive.\n"
      ],
      "metadata": {
        "id": "4CfiddhUYglO"
      }
    },
    {
      "cell_type": "code",
      "source": [
        "# Tune hyperparameter for GradiantBoosting\n",
        "parameter_grid = {\n",
        "'n_estimators': [10, 50, 100],\n",
        "    'learning_rate': [0.01, 0.1, 0.5],\n",
        "    'max_depth': [1, 3, 5],\n",
        "    'min_samples_split': [2, 5, 10],\n",
        "    'min_samples_leaf': [1, 2, 4]\n",
        "}\n",
        "model_1 = sklearn.model_selection.RandomizedSearchCV(GradientBoostingClassifier(), parameter_grid,  n_iter=10, cv=5, scoring='accuracy', random_state=42, n_jobs=-1 )\n",
        "model_1.fit(x_train, y_train)\n",
        "\n",
        "print(\"accuray of best   = {: .2f}\".format(model_1.best_score_))\n",
        "print(\"best hyperparameters for gradiantboostingclassifier (model_1) = {}\".format(model_1.best_params_))\n"
      ],
      "metadata": {
        "colab": {
          "base_uri": "https://localhost:8080/"
        },
        "id": "R-oYpoX2mNKw",
        "outputId": "78073e4b-e619-4643-8fab-ab4358f22240"
      },
      "execution_count": 56,
      "outputs": [
        {
          "output_type": "stream",
          "name": "stdout",
          "text": [
            "accuray of best   =  0.73\n",
            "best hyperparameters for gradiantboostingclassifier (model_1) = {'n_estimators': 100, 'min_samples_split': 5, 'min_samples_leaf': 1, 'max_depth': 3, 'learning_rate': 0.1}\n"
          ]
        }
      ]
    },
    {
      "cell_type": "code",
      "source": [
        "# Tune hyperparameter for Random Forest\n",
        "parameter_grid = {\n",
        "    'n_estimators': [100],  ## since the running was too slow, after a few run, I removed parameters with lower chances from grid\n",
        "    'max_depth': [ 5,10],\n",
        "    'min_samples_split': [2, 10],\n",
        "    'min_samples_leaf': [1,  4]\n",
        "}\n",
        "\n",
        "model_2 = sklearn.model_selection.GridSearchCV(RandomForestClassifier(), parameter_grid, scoring = \"accuracy\" , cv=5 , n_jobs = -1)\n",
        "model_2.fit(x_train, y_train)\n",
        "\n",
        "print(\"accuray of best (model_2) Random Forest classifier = {: .2f}\".format(model_2.best_score_))\n",
        "print(\"best hyperparameters for Random Forest Classifier(model_2) = {}\".format(model_2.best_params_))\n"
      ],
      "metadata": {
        "colab": {
          "base_uri": "https://localhost:8080/"
        },
        "id": "sQvFIshgND1l",
        "outputId": "37e382b7-80dd-4a54-f725-456fe816f2dc"
      },
      "execution_count": 57,
      "outputs": [
        {
          "output_type": "stream",
          "name": "stdout",
          "text": [
            "accuray of best (model_2) Random Forest classifier =  0.73\n",
            "best hyperparameters for Random Forest Classifier(model_2) = {'max_depth': 10, 'min_samples_leaf': 1, 'min_samples_split': 10, 'n_estimators': 100}\n"
          ]
        }
      ]
    },
    {
      "cell_type": "code",
      "source": [
        "\n",
        "# tune hyperparameter for SVM model\n",
        "parameter_grid = {\n",
        "    'C': [0.1, 1, 10],\n",
        "    'gamma': [0.1, 0.01, 0.001],\n",
        "    'kernel': ['rbf', 'linear', 'poly']\n",
        "}\n",
        "\n",
        "model_3 = sklearn.model_selection.RandomizedSearchCV(sklearn.svm.SVC(), parameter_grid,n_iter=5, cv=5, scoring='accuracy', random_state=42, n_jobs=-1)\n",
        "model_3.fit(x_train, y_train)\n",
        "\n",
        "print(\"accuray of best (model_3) SVM classifier = {: .2f}\".format(model_3.best_score_))\n",
        "print(\"best hyperparameters for SVM(model_3) classifier = {}\".format(model_3.best_params_))"
      ],
      "metadata": {
        "id": "1d2Xqx9pNEO-"
      },
      "execution_count": null,
      "outputs": []
    },
    {
      "cell_type": "code",
      "source": [
        "\n",
        "# tune hyperparameter for logistic regression model\n",
        "parameter_grid = {\n",
        "    'C': [0.001, 0.01, 0.1, 1, 10, 100],\n",
        "    'penalty': ['none', 'l2']\n",
        "}\n",
        "\n",
        "\n",
        "model_4 = sklearn.model_selection.GridSearchCV(sklearn.linear_model.LogisticRegression(), parameter_grid, cv=5, scoring='accuracy',  n_jobs=-1)\n",
        "model_4.fit(x_train, y_train)\n",
        "\n",
        "print(\"accuray of best (model_4) LogisticRegression classifier = {: .2f}\".format(model_4.best_score_))\n",
        "print(\"best hyperparameters for LogisticRegression(model_4) classifier = {}\".format(model_4.best_params_))"
      ],
      "metadata": {
        "id": "T93yb4jJ2vti"
      },
      "execution_count": null,
      "outputs": []
    },
    {
      "cell_type": "code",
      "source": [
        "\n",
        "# try naive bayes\n",
        "model_5 = GaussianNB()\n",
        "model_5.fit(x_train, y_train)\n",
        "y_p = model_5.predict(x_test)\n",
        "print(\"accuray of best (model_5) GaussianNB classifier = {: .2f}\".format(accuracy_score(y_test,y_p)))"
      ],
      "metadata": {
        "id": "GbjStuFM5T6N"
      },
      "execution_count": null,
      "outputs": []
    },
    {
      "cell_type": "markdown",
      "source": [
        "# Model Assessment\n",
        "\n",
        "For Assessment, I have to consider that False-Negetive is the most important metrics that affect the business the most."
      ],
      "metadata": {
        "id": "bHeOkPMql4q_"
      }
    },
    {
      "cell_type": "code",
      "source": [
        "# apply the best model with its best hyperpararmeters on our dataset\n",
        "y_predicted = model_1.predict(x_test)\n",
        "accuracy = sklearn.metrics.accuracy_score(y_test, y_predicted)\n",
        "cm = sklearn.metrics.confusion_matrix(y_test, y_predicted)\n",
        "precision , recall, f1, support = sklearn.metrics.precision_recall_fscore_support(y_test, y_predicted)\n",
        "cr = sklearn.metrics.classification_report(y_test, y_predicted)\n",
        "tn, fp, fn, tp = cm.ravel()\n",
        "tnr = tn / (tn + fp)\n",
        "fpr = fp / (tn + fp)\n",
        "print(\"False Positive Rate:\", fpr)\n",
        "print(\"True Negative Rate (Specificity):\", tnr)\n",
        "print(\"accuracy : \", accuracy)\n",
        "print(\"precision : \", precision)\n",
        "print(\"recall : \", recall)\n",
        "print(\"f1-score : \", f1)\n",
        "print(\"confusion matrix : \\n \", cm)\n",
        "print(\"classification report : \\n \", cr)\n"
      ],
      "metadata": {
        "id": "ITZVJNcgxfHN"
      },
      "execution_count": null,
      "outputs": []
    },
    {
      "cell_type": "markdown",
      "source": [
        "\n",
        "# Final Discussion\n",
        "\n",
        "As I mentioned before, Gradiant Boosting sounds to be the best fit for my dataset characteristics. I tried to use 4 different classifiers and tune hyperparameters for each which was available. Although due to the resource limitation I could not run hyperparameter tunning deeply and find better parameters for my model, finding accuracy of 74% was good enough since the True-Negetive rate which was the most important rate is 78%. If we need better True-Negetive rate(detect high-risk customers) the fifth model(naive bayes) which was simpler than others and has accuracy of 60%, has a very good 92% True-negetive but 45 percent of quallified customers for discounts will be disappointed.\n",
        "Training speed and interpretability of decision were not important in this problem so using Gradiant Boosting could help us during this problem.\n"
      ],
      "metadata": {
        "id": "MmopQSCiZDt-"
      }
    },
    {
      "cell_type": "markdown",
      "source": [
        "\n",
        "# References\n",
        "\n",
        "1.  Svetlana Ulianova (2023) Cardiovascular Disease dataset. Available at: https://www.kaggle.com/datasets/sulianova/cardiovascular-disease-dataset (Accessed 15 March 2024).\n",
        "\n",
        "\n",
        "\n",
        "\n",
        "\\\n",
        "\n"
      ],
      "metadata": {
        "id": "ugZhWIeDZHA3"
      }
    },
    {
      "cell_type": "code",
      "source": [
        "# !pip install nbconvert\n",
        "\n",
        "#!jupyter nbconvert --to html /content/drive/MyDrive/Colab_Notebooks/M505A/GH1024356_FinalProject_M505A.ipynb\n"
      ],
      "metadata": {
        "id": "I2ss6z3sTjiW"
      },
      "execution_count": null,
      "outputs": []
    }
  ]
}